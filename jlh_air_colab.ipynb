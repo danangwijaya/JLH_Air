{
  "cells": [
    {
      "cell_type": "markdown",
      "metadata": {
        "id": "view-in-github",
        "colab_type": "text"
      },
      "source": [
        "<a href=\"https://colab.research.google.com/github/danangwijaya/JLH_Air/blob/main/jlh_air_colab.ipynb\" target=\"_parent\"><img src=\"https://colab.research.google.com/assets/colab-badge.svg\" alt=\"Open In Colab\"/></a>"
      ]
    },
    {
      "cell_type": "code",
      "execution_count": null,
      "metadata": {
        "colab": {
          "base_uri": "https://localhost:8080/"
        },
        "id": "cKUD73SxGwRQ",
        "outputId": "3431b9c9-fc48-4190-ca79-b9ff2a794336"
      },
      "outputs": [
        {
          "name": "stdout",
          "output_type": "stream",
          "text": [
            "Drive already mounted at /content/drive; to attempt to forcibly remount, call drive.mount(\"/content/drive\", force_remount=True).\n"
          ]
        },
        {
          "data": {
            "text/plain": [
              "{'DXF': 'rw',\n",
              " 'CSV': 'raw',\n",
              " 'OpenFileGDB': 'raw',\n",
              " 'ESRIJSON': 'r',\n",
              " 'ESRI Shapefile': 'raw',\n",
              " 'FlatGeobuf': 'raw',\n",
              " 'GeoJSON': 'raw',\n",
              " 'GeoJSONSeq': 'raw',\n",
              " 'GPKG': 'raw',\n",
              " 'GML': 'rw',\n",
              " 'OGR_GMT': 'rw',\n",
              " 'GPX': 'rw',\n",
              " 'MapInfo File': 'raw',\n",
              " 'DGN': 'raw',\n",
              " 'S57': 'r',\n",
              " 'SQLite': 'raw',\n",
              " 'TopoJSON': 'r'}"
            ]
          },
          "execution_count": 43,
          "metadata": {},
          "output_type": "execute_result"
        }
      ],
      "source": [
        "#INISIASI LIBRARY YANG DIGUNAKAN\n",
        "from google.colab import drive\n",
        "drive.mount('/content/drive')\n",
        "import geopandas as gpd\n",
        "import pandas as pd\n",
        "import numpy as np\n",
        "from datetime import datetime\n",
        "import fiona\n",
        "fiona.supported_drivers\n",
        "\n",
        "# import glob\n",
        "# import os\n",
        "# # import leafmap"
      ]
    },
    {
      "cell_type": "code",
      "execution_count": null,
      "metadata": {
        "id": "4pCfDTBSG9Ev"
      },
      "outputs": [],
      "source": [
        "#INISIASI DATA YANG DIGUNAKAN\n",
        "skor_pl = pd.read_csv('/content/drive/MyDrive/Colab Notebooks/preprocessing/skor_pl.csv')\n",
        "skor_kba = pd.read_csv('/content/drive/MyDrive/Colab Notebooks/preprocessing/skor_kba.csv')\n",
        "skor_kva = pd.read_csv('/content/drive/MyDrive/Colab Notebooks/preprocessing/skor_kva.csv')\n",
        "data_kba = gpd.read_file('/content/drive/MyDrive/Colab Notebooks/preprocessing/KBA/KBA_Bali.shp')\n",
        "data_kva = gpd.read_file('/content/drive/MyDrive/Colab Notebooks/preprocessing/KVA/KVA_Bali.shp')\n",
        "data_pl = gpd.read_file('/content/drive/MyDrive/Colab Notebooks/preprocessing/PL/PL_Bali.shp')\n",
        "\n",
        "# MENYAMAKAN SISTEM KOORDINAT\n",
        "kba = data_kba.to_crs(3395)\n",
        "kva = data_kva.to_crs(3395)\n",
        "pl = data_pl.to_crs(3395)"
      ]
    },
    {
      "cell_type": "code",
      "execution_count": null,
      "metadata": {
        "colab": {
          "base_uri": "https://localhost:8080/"
        },
        "id": "m2YgZwysNKAB",
        "outputId": "0a04fcd6-812d-4785-93ae-74b94d17789b"
      },
      "outputs": [
        {
          "name": "stderr",
          "output_type": "stream",
          "text": [
            "/usr/local/lib/python3.10/dist-packages/geopandas/geodataframe.py:1803: FutureWarning: `unary_union` returned None due to all-None GeoSeries. In future, `unary_union` will return 'GEOMETRYCOLLECTION EMPTY' instead.\n",
            "  merged_geom = block.unary_union\n",
            "/usr/local/lib/python3.10/dist-packages/geopandas/geodataframe.py:2451: UserWarning: `keep_geom_type=True` in overlay resulted in 247 dropped geometries of different geometry types than df1 has. Set `keep_geom_type=False` to retain all geometries\n",
            "  return geopandas.overlay(\n"
          ]
        }
      ],
      "source": [
        "#PROSES OVERLAY DATA\n",
        "overlay_ekoregion = kba.overlay(kva, how='intersection')\n",
        "overlay_pl = overlay_ekoregion.overlay(pl, how='intersection')\n",
        "jlh = gpd.GeoDataFrame(overlay_pl)\n",
        "\n",
        "#PROSES JOIN TABLE SKOR KBA, KVA, dan PL\n",
        "join_kba = pd.merge(jlh, skor_kba, left_on='KBA_250', right_on='KBA_250')\n",
        "join_kva = pd.merge(join_kba, skor_kva, left_on='KVA_250', right_on='KVA_250')\n",
        "jlh = pd.merge(join_kva, skor_pl, left_on='pl2021_id', right_on='kodepl')"
      ]
    },
    {
      "cell_type": "code",
      "execution_count": null,
      "metadata": {
        "id": "1zxGssfCQM1C"
      },
      "outputs": [],
      "source": [
        "#MENGHITUNG SKOR JASLING\n",
        "jlh['SPgAir'] = (jlh['KBA_Pg']*0.28) + (jlh['KVA_Pg']*0.12) + (jlh['PL_Pg']*0.6)\n",
        "jlh['SPyAir'] = (jlh['KBA_Py']*0.28) + (jlh['KVA_Py']*0.12) + (jlh['PL_Py']*0.6)\n",
        "\n",
        "#KLASIFIKASI SKOR JASLING(Sangat Rendah - Sangat Tinggi)\n",
        "class_pg = [\n",
        "    (jlh['SPgAir'] <= 1.8),\n",
        "    (jlh['SPgAir'] > 1.8) & (jlh['SPgAir'] <= 2.6),\n",
        "    (jlh['SPgAir'] > 2.6) & (jlh['SPgAir'] <= 3.4),\n",
        "    (jlh['SPgAir'] > 3.4) & (jlh['SPgAir'] <= 4.2),\n",
        "    (jlh['SPgAir'] > 4.2)\n",
        "    ]\n",
        "\n",
        "# class_py = [\n",
        "#     (jlh['SPyAir'] <= 1.8),\n",
        "#     (jlh['SPyAir'] > 1.8) & (jlh['SPyAir'] <= 2.6),\n",
        "#     (jlh['SPyAir'] > 2.6) & (jlh['SPyAir'] <= 3.4),\n",
        "#     (jlh['SPyAir'] > 3.4) & (jlh['SPyAir'] <= 4.2),\n",
        "#     (jlh['SPyAir'] > 4.2)\n",
        "#     ]\n",
        "\n",
        "class_py = class_pg\n",
        "\n",
        "values = ['Sangat Rendah', 'Rendah', 'Sedang', 'Tinggi', 'Sangat Tinggi']\n",
        "\n",
        "\n",
        "jlh['KPgAir'] = np.select(class_pg, values)\n",
        "jlh['KPyAir'] = np.select(class_py, values)\n",
        "\n",
        "jlh.head()"
      ]
    },
    {
      "cell_type": "code",
      "execution_count": null,
      "metadata": {
        "colab": {
          "background_save": true
        },
        "id": "fAegEYpyYNab"
      },
      "outputs": [],
      "source": [
        "# VISUALISASI HASIL FILE\n",
        "\n",
        "import matplotlib\n",
        "import matplotlib.pyplot as plt\n",
        "from mapclassify import classify\n",
        "\n",
        "jlh.explore(\"KPgAir\", cmap=\"RdYlGn\")"
      ]
    },
    {
      "cell_type": "code",
      "source": [
        "# MENYIMPAN HASIL FILE\n",
        "now = datetime.now()\n",
        "date = now.strftime(\"%d%m%Y%H%M%S\")\n",
        "url_file = '/content/drive/MyDrive/Colab Notebooks/result/Jasling_'+date+'.gpkg'\n",
        "jlh.to_file(url_file, driver='GPKG', layer='JLH')"
      ],
      "metadata": {
        "id": "Uz7hUXrxhHVO"
      },
      "execution_count": null,
      "outputs": []
    }
  ],
  "metadata": {
    "colab": {
      "provenance": [],
      "authorship_tag": "ABX9TyMdvmCe4GlX6ugqUy/HMs0Q",
      "include_colab_link": true
    },
    "kernelspec": {
      "display_name": "Python 3",
      "name": "python3"
    },
    "language_info": {
      "name": "python"
    }
  },
  "nbformat": 4,
  "nbformat_minor": 0
}