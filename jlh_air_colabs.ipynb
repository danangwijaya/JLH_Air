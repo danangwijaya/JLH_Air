{
  "nbformat": 4,
  "nbformat_minor": 0,
  "metadata": {
    "colab": {
      "provenance": [],
      "authorship_tag": "ABX9TyNBGaxiajTneFRy0Xvw2X1j",
      "include_colab_link": true
    },
    "kernelspec": {
      "name": "python3",
      "display_name": "Python 3"
    },
    "language_info": {
      "name": "python"
    }
  },
  "cells": [
    {
      "cell_type": "markdown",
      "metadata": {
        "id": "view-in-github",
        "colab_type": "text"
      },
      "source": [
        "<a href=\"https://colab.research.google.com/github/danangwijaya/JLH_Air/blob/main/jlh_air_colabs.ipynb\" target=\"_parent\"><img src=\"https://colab.research.google.com/assets/colab-badge.svg\" alt=\"Open In Colab\"/></a>"
      ]
    },
    {
      "cell_type": "code",
      "execution_count": 3,
      "metadata": {
        "colab": {
          "base_uri": "https://localhost:8080/"
        },
        "id": "cKUD73SxGwRQ",
        "outputId": "df951a5a-86b2-4945-c286-710b3c70a447"
      },
      "outputs": [
        {
          "output_type": "execute_result",
          "data": {
            "text/plain": [
              "{'DXF': 'rw',\n",
              " 'CSV': 'raw',\n",
              " 'OpenFileGDB': 'raw',\n",
              " 'ESRIJSON': 'r',\n",
              " 'ESRI Shapefile': 'raw',\n",
              " 'FlatGeobuf': 'raw',\n",
              " 'GeoJSON': 'raw',\n",
              " 'GeoJSONSeq': 'raw',\n",
              " 'GPKG': 'raw',\n",
              " 'GML': 'rw',\n",
              " 'OGR_GMT': 'rw',\n",
              " 'GPX': 'rw',\n",
              " 'MapInfo File': 'raw',\n",
              " 'DGN': 'raw',\n",
              " 'S57': 'r',\n",
              " 'SQLite': 'raw',\n",
              " 'TopoJSON': 'r'}"
            ]
          },
          "metadata": {},
          "execution_count": 3
        }
      ],
      "source": [
        "#INISIASI LIBRARY YANG DIGUNAKAN\n",
        "from google.colab import drive\n",
        "import glob\n",
        "import os\n",
        "# import leafmap\n",
        "import geopandas as gp\n",
        "import pandas as pds\n",
        "import numpy as np\n",
        "from datetime import datetime\n",
        "import fiona\n",
        "fiona.supported_drivers\n",
        "\n"
      ]
    },
    {
      "cell_type": "code",
      "source": [
        "#INISIASI DATA YANG DIGUNAKAN\n",
        "table_pl = pds.read_csv('/content/drive/MyDrive/Colab Notebooks/preprocessing/pl.csv')\n",
        "ekoregion = gp.read_file('/content/drive/MyDrive/Colab Notebooks/preprocessing/Ekoregion/Ekoregion.shp')\n",
        "ekoregion_proj = ekoregion.to_crs(3395)\n",
        "PL_1996 = gp.read_file('/content/drive/MyDrive/Colab Notebooks/preprocessing/PL/1996/PL_1996.shp')\n",
        "PL_2021 = gp.read_file('/content/drive/MyDrive/Colab Notebooks/preprocessing/PL/2021/PL_2021.shp')\n",
        "# poly_prepros = gp.read_file(data_input)\n",
        "\n",
        "#PROSES OVERLAY DATA\n",
        "overlay_old = ekoregion_proj.overlay(PL_1996, how='intersection')\n",
        "overlay_new = overlay_old.overlay(PL_2021, how='intersection')\n",
        "jlh = gp.GeoDataFrame(overlay_new)\n",
        "\n",
        "#PROSES JOIN TABLE SKOR PL\n",
        "# jlh['pl'] = jlh['pl'].fillna(jlh.pop('PL20_ID'))\n",
        "jlh_pl_old = gp.merge(jlh, table_pl, left_on='PL96_ID', right_on='pl',suffixes=[None,'_old'])\n",
        "jlh_pl_new = gp.merge(jlh_pl_old, table_pl, left_on='PL2021_ID', right_on='pl',suffixes=[None,'_new'])\n",
        "\n",
        "\n",
        "#MENGHITUNG SKOR JASLING LAMA\n",
        "jlh['SPgAir_old'] = jlh['sbava_pg'] + (jlh['PLPg_old']*0.6)\n",
        "jlh['SPyAir_old'] = jlh['sbava_py'] + (jlh['PLPy_old']*0.6)\n",
        "\n",
        "#MENGHITUNG SKOR JASLING LAMA\n",
        "jlh['SPgAir_new'] = jlh['sbava_pg'] + (jlh['PLPg_new']*0.6)\n",
        "jlh['SPyAir_new'] = jlh['sbava_py'] + (jlh['PLPy_new']*0.6)\n",
        "\n",
        "#KLASIFIKASI SKOR JASLING(Sangat Rendah - Sangat Tinggi)\n",
        "class_pg_old = [\n",
        "    (jlh['SPgAir_old'] <= 1.8),\n",
        "    (jlh['SPgAir_old'] > 1.8) & (jlh['SPgAir_old'] <= 2.6),\n",
        "    (jlh['SPgAir_old'] > 2.6) & (jlh['SPgAir_old'] <= 3.4),\n",
        "    (jlh['SPgAir_old'] > 3.4) & (jlh['SPgAir_old'] <= 4.2),\n",
        "    (jlh['SPgAir_old'] > 4.2)\n",
        "    ]\n",
        "\n",
        "class_py_old = [\n",
        "    (jlh['SPyAir_old'] <= 1.8),\n",
        "    (jlh['SPyAir_old'] > 1.8) & (jlh['SPyAir_old'] <= 2.6),\n",
        "    (jlh['SPyAir_old'] > 2.6) & (jlh['SPyAir_old'] <= 3.4),\n",
        "    (jlh['SPyAir_old'] > 3.4) & (jlh['SPyAir_old'] <= 4.2),\n",
        "    (jlh['SPyAir_old'] > 4.2)\n",
        "    ]\n",
        "\n",
        "class_pg_new = [\n",
        "    (jlh['SPgAir_new'] <= 1.8),\n",
        "    (jlh['SPgAir_new'] > 1.8) & (jlh['SPgAir_new'] <= 2.6),\n",
        "    (jlh['SPgAir_new'] > 2.6) & (jlh['SPgAir_new'] <= 3.4),\n",
        "    (jlh['SPgAir_new'] > 3.4) & (jlh['SPgAir_new'] <= 4.2),\n",
        "    (jlh['SPgAir_new'] > 4.2)\n",
        "    ]\n",
        "\n",
        "class_py_new = [\n",
        "    (jlh['SPyAir_new'] <= 1.8),\n",
        "    (jlh['SPyAir_new'] > 1.8) & (jlh['SPyAir_new'] <= 2.6),\n",
        "    (jlh['SPyAir_new'] > 2.6) & (jlh['SPyAir_new'] <= 3.4),\n",
        "    (jlh['SPyAir_new'] > 3.4) & (jlh['SPyAir_new'] <= 4.2),\n",
        "    (jlh['SPyAir_new'] > 4.2)\n",
        "    ]\n",
        "\n",
        "values = ['Sangat Rendah', 'Rendah', 'Sedang', 'Tinggi', 'Sangat Tinggi']\n",
        "\n",
        "\n",
        "jlh['PgAir_old'] = np.select(class_pg_old, values)\n",
        "jlh['PyAir_old'] = np.select(class_py_old, values)\n",
        "jlh['PgAir_new'] = np.select(class_pg_new, values)\n",
        "jlh['PyAir_new'] = np.select(class_py_new, values)\n",
        "\n",
        "# MENYIMPAN HASIL FILE\n",
        "# now = datetime.now()\n",
        "# date = now.strftime(\"%d%m%Y%H%M%S\")\n",
        "# url_file = '/content/drive/MyDrive/Colab Notebooks/result/Jasling/Jasling_'+date+'.shp'\n",
        "# jlh.to_file(url_file,driver='Shapefile')\n",
        "\n",
        "\n",
        "# MENAMPILKAN HASIL\n",
        "# m = leafmap.Map()\n",
        "# m.add_vector(jlh, layer_name='Jasling')\n",
        "# jlh.plot(\n",
        "#     column='PgAir_new',\n",
        "#     cmap='RdYlGn'\n",
        "# )"
      ],
      "metadata": {
        "colab": {
          "base_uri": "https://localhost:8080/"
        },
        "id": "4pCfDTBSG9Ev",
        "outputId": "45281da2-b9fb-49b6-af14-03b2eb0ad6b1"
      },
      "execution_count": 2,
      "outputs": [
        {
          "output_type": "stream",
          "name": "stdout",
          "text": [
            "Looking in indexes: https://pypi.org/simple, https://us-python.pkg.dev/colab-wheels/public/simple/\n",
            "Collecting geopandas\n",
            "  Downloading geopandas-0.13.2-py3-none-any.whl (1.1 MB)\n",
            "\u001b[2K     \u001b[90m━━━━━━━━━━━━━━━━━━━━━━━━━━━━━━━━━━━━━━━━\u001b[0m \u001b[32m1.1/1.1 MB\u001b[0m \u001b[31m22.5 MB/s\u001b[0m eta \u001b[36m0:00:00\u001b[0m\n",
            "\u001b[?25hCollecting fiona>=1.8.19 (from geopandas)\n",
            "  Downloading Fiona-1.9.4.post1-cp310-cp310-manylinux_2_17_x86_64.manylinux2014_x86_64.whl (16.4 MB)\n",
            "\u001b[2K     \u001b[90m━━━━━━━━━━━━━━━━━━━━━━━━━━━━━━━━━━━━━━━━\u001b[0m \u001b[32m16.4/16.4 MB\u001b[0m \u001b[31m84.0 MB/s\u001b[0m eta \u001b[36m0:00:00\u001b[0m\n",
            "\u001b[?25hRequirement already satisfied: packaging in /usr/local/lib/python3.10/dist-packages (from geopandas) (23.1)\n",
            "Requirement already satisfied: pandas>=1.1.0 in /usr/local/lib/python3.10/dist-packages (from geopandas) (1.5.3)\n",
            "Collecting pyproj>=3.0.1 (from geopandas)\n",
            "  Downloading pyproj-3.6.0-cp310-cp310-manylinux_2_17_x86_64.manylinux2014_x86_64.whl (7.9 MB)\n",
            "\u001b[2K     \u001b[90m━━━━━━━━━━━━━━━━━━━━━━━━━━━━━━━━━━━━━━━━\u001b[0m \u001b[32m7.9/7.9 MB\u001b[0m \u001b[31m106.0 MB/s\u001b[0m eta \u001b[36m0:00:00\u001b[0m\n",
            "\u001b[?25hRequirement already satisfied: shapely>=1.7.1 in /usr/local/lib/python3.10/dist-packages (from geopandas) (2.0.1)\n",
            "Requirement already satisfied: attrs>=19.2.0 in /usr/local/lib/python3.10/dist-packages (from fiona>=1.8.19->geopandas) (23.1.0)\n",
            "Requirement already satisfied: certifi in /usr/local/lib/python3.10/dist-packages (from fiona>=1.8.19->geopandas) (2022.12.7)\n",
            "Requirement already satisfied: click~=8.0 in /usr/local/lib/python3.10/dist-packages (from fiona>=1.8.19->geopandas) (8.1.3)\n",
            "Collecting click-plugins>=1.0 (from fiona>=1.8.19->geopandas)\n",
            "  Downloading click_plugins-1.1.1-py2.py3-none-any.whl (7.5 kB)\n",
            "Collecting cligj>=0.5 (from fiona>=1.8.19->geopandas)\n",
            "  Downloading cligj-0.7.2-py3-none-any.whl (7.1 kB)\n",
            "Requirement already satisfied: six in /usr/local/lib/python3.10/dist-packages (from fiona>=1.8.19->geopandas) (1.16.0)\n",
            "Requirement already satisfied: python-dateutil>=2.8.1 in /usr/local/lib/python3.10/dist-packages (from pandas>=1.1.0->geopandas) (2.8.2)\n",
            "Requirement already satisfied: pytz>=2020.1 in /usr/local/lib/python3.10/dist-packages (from pandas>=1.1.0->geopandas) (2022.7.1)\n",
            "Requirement already satisfied: numpy>=1.21.0 in /usr/local/lib/python3.10/dist-packages (from pandas>=1.1.0->geopandas) (1.22.4)\n",
            "Installing collected packages: pyproj, cligj, click-plugins, fiona, geopandas\n",
            "Successfully installed click-plugins-1.1.1 cligj-0.7.2 fiona-1.9.4.post1 geopandas-0.13.2 pyproj-3.6.0\n"
          ]
        }
      ]
    }
  ]
}